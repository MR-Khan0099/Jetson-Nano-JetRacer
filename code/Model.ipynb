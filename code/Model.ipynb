{
 "cells": [
  {
   "cell_type": "code",
   "execution_count": null,
   "id": "8391701c",
   "metadata": {},
   "outputs": [],
   "source": [
    "from google.colab import drive\n",
    "drive.mount('/content/drive')"
   ]
  },
  {
   "cell_type": "code",
   "execution_count": null,
   "id": "a2ebcc3d",
   "metadata": {},
   "outputs": [],
   "source": [
    "import sys\n",
    "from os.path import dirname\n",
    "\n",
    "sys.path.append(\"/content/drive/MyDrive/FHDO/Sem2/Project\")\n",
    "sys.path.append(\"/content/drive/MyDrive/FHDO/Sem2/Project/dataset\")\n",
    "\n",
    "import shutil\n",
    "src = '/content/drive/MyDrive/FHDO/Sem2/Project/dataset/road_following_B/'\n",
    "dest = '/content/road_following_B/'\n",
    "#destination = shutil.copytree(src, dest)\n",
    "# Remove the destination directory if it already exists\n",
    "shutil.rmtree(dest, ignore_errors=True)\n",
    "\n",
    "# Copy the source directory to the destination\n",
    "destination = shutil.copytree(src, dest)\n",
    "\n",
    "src = '/content/drive/MyDrive/FHDO/Sem2/Project/xy_dataset.py'\n",
    "dest = '/content/'\n",
    "destination = shutil.copy2(src, dest)\n",
    "\n",
    "src = '/content/drive/MyDrive/FHDO/Sem2/Project/utils.py'\n",
    "dest = '/content/'\n",
    "destination = shutil.copy2(src, dest)\n",
    "\n",
    "# # Remove the destination directory if it already exists\n",
    "# shutil.rmtree(dest, ignore_errors=True)\n",
    "\n",
    "# # Copy the source directory to the destination\n",
    "# destination = shutil.copytree(src, dest)"
   ]
  },
  {
   "cell_type": "markdown",
   "id": "e82bee2e",
   "metadata": {},
   "source": [
    "### Dataset Object"
   ]
  },
  {
   "cell_type": "code",
   "execution_count": null,
   "id": "9a046e91",
   "metadata": {},
   "outputs": [],
   "source": [
    "import torchvision.transforms as transforms\n",
    "from xy_dataset import XYDataset\n",
    "\n",
    "TASK = 'road_following'\n",
    "\n",
    "CATEGORIES = ['apex']\n",
    "\n",
    "DATASETS = ['A', 'B']\n",
    "\n",
    "TRANSFORMS = transforms.Compose([\n",
    "    transforms.ColorJitter(0.2, 0.2, 0.2, 0.2),\n",
    "    transforms.Resize((224, 224)),\n",
    "    transforms.ToTensor(),\n",
    "    transforms.Normalize([0.485, 0.456, 0.406], [0.229, 0.224, 0.225])\n",
    "])\n",
    "\n",
    "datasets = {}\n",
    "for name in DATASETS:\n",
    "    datasets[name] = XYDataset(TASK + '_' + name, CATEGORIES, TRANSFORMS, random_hflip=True)\n"
   ]
  },
  {
   "cell_type": "code",
   "execution_count": null,
   "id": "ed394e5d",
   "metadata": {},
   "outputs": [],
   "source": [
    "\n",
    "\n",
    "import torchvision.transforms as transforms\n",
    "from xy_dataset import XYDataset\n",
    "import torchvision.models as models\n",
    "\n",
    "TASK = 'road_following'\n",
    "\n",
    "CATEGORIES = ['apex1_2']\n",
    "\n",
    "DATASETS = ['A', 'B']\n",
    "\n",
    "# Load the ResNet-34 model\n",
    "model = models.resnet18(pretrained=True)\n",
    "num_features = model.fc.in_features\n",
    "\n",
    "# Modify the final fully connected layer to match the number of classes in your task\n",
    "model.fc = torch.nn.Linear(num_features, len(CATEGORIES))\n",
    "\n",
    "TRANSFORMS = transforms.Compose([\n",
    "    transforms.ColorJitter(0.2, 0.2, 0.2, 0.2),\n",
    "    transforms.Resize((224, 224)),  # Adjusted input size for ResNet-50\n",
    "    transforms.ToTensor(),\n",
    "    transforms.Normalize([0.485, 0.456, 0.406], [0.229, 0.224, 0.225])\n",
    "])\n",
    "\n",
    "datasets = {}\n",
    "for name in DATASETS:\n",
    "    datasets[name] = XYDataset(TASK + '_' + name, CATEGORIES, TRANSFORMS, random_hflip=True)\n"
   ]
  },
  {
   "cell_type": "code",
   "execution_count": null,
   "id": "245956d4",
   "metadata": {},
   "outputs": [],
   "source": [
    "import ipywidgets\n",
    "#choose set B\n",
    "dataset = datasets[DATASETS[1]]"
   ]
  },
  {
   "cell_type": "markdown",
   "id": "fd82b085",
   "metadata": {},
   "source": [
    "### Create model"
   ]
  },
  {
   "cell_type": "code",
   "execution_count": null,
   "id": "cff680e4",
   "metadata": {},
   "outputs": [],
   "source": [
    "import torch\n",
    "import torchvision\n",
    "import torchvision.models as models\n",
    "\n",
    "device = torch.device('cuda')\n",
    "output_dim = 2 * len(dataset.categories)  # x, y coordinate for each category\n",
    "\n",
    "# RESNET 34\n",
    "#model = torchvision.models.resnet50(pretrained=True)\n",
    "# model = torchvision.models.resnet34(pretrained=True)\n",
    "# model.fc = torch.nn.Linear(512, output_dim)\n",
    "# RESNET 18\n",
    "#model = torchvision.models.resnet50(pretrained=True)\n",
    "model = torchvision.models.resnet18(pretrained=True)\n",
    "model.fc = torch.nn.Linear(512, output_dim)\n",
    "\n",
    "\n",
    "model = model.to(device)\n",
    "def load_model():\n",
    "    model.load_state_dict(torch.load(), load_path)\n",
    "def save_model():\n",
    "    torch.save(model.state_dict(), save_path)\n"
   ]
  },
  {
   "cell_type": "code",
   "execution_count": null,
   "id": "b021acfe",
   "metadata": {},
   "outputs": [],
   "source": []
  },
  {
   "cell_type": "code",
   "execution_count": null,
   "id": "759e0552",
   "metadata": {},
   "outputs": [],
   "source": []
  },
  {
   "cell_type": "markdown",
   "id": "0671cc7c",
   "metadata": {},
   "source": [
    "## Train"
   ]
  },
  {
   "cell_type": "code",
   "execution_count": null,
   "id": "2eabc348",
   "metadata": {},
   "outputs": [],
   "source": [
    "BATCH_SIZE = 8\n",
    "correct_range = 0.1\n",
    "\n",
    "num_epoch = 20\n",
    "#import numpy as np\n",
    "#z = np.array([0,0,0,0,0,0,0,0])\n",
    "\n",
    "optimizer = torch.optim.Adam(model.parameters())\n",
    "# optimizer = torch.optim.SGD(model.parameters(), lr=1e-3, momentum=0.9)\n",
    "\n",
    "loss_widget = ipywidgets.FloatText(description='loss')\n",
    "progress_widget = ipywidgets.FloatProgress(min=0.0, max=1.0, description='progress')\n",
    "\n",
    "def train():\n",
    "    global BATCH_SIZE, LEARNING_RATE, MOMENTUM, model, dataset, optimizer, eval_button, train_button, accuracy_widget, loss_widget, progress_widget, state_widget\n",
    "\n",
    "    train_loader = torch.utils.data.DataLoader(\n",
    "            dataset,\n",
    "            batch_size=BATCH_SIZE,\n",
    "            shuffle=True\n",
    "        )\n",
    "\n",
    "    model = model.train()\n",
    "\n",
    "    accuracy = 0.0\n",
    "    epoch = num_epoch\n",
    "    while epoch > 0:\n",
    "      print(f\"iteration: {num_epoch-epoch}\")\n",
    "      i = 0\n",
    "      sum_loss = 0.0\n",
    "      error_count = 0.0\n",
    "      for images, category_idx, xy in iter(train_loader):\n",
    "        correct = 0.0\n",
    "        # send data to device\n",
    "        images = images.to(device)\n",
    "        xy = xy.to(device)\n",
    "\n",
    "        optimizer.zero_grad()\n",
    "\n",
    "        # execute model to get outputs\n",
    "        outputs = model(images)\n",
    "        #print(\"outputs\")\n",
    "        #print(f\" {0 + outputs[0][0]}\")\n",
    "        #print(\"xy\")\n",
    "        #print(xy)\n",
    "\n",
    "        # compute MSE loss over x, y coordinates for associated categories\n",
    "        loss = 0.0\n",
    "        for batch_idx, cat_idx in enumerate(list(category_idx.flatten())):\n",
    "\n",
    "          #print(\"batch_idx\")\n",
    "          #print(batch_idx)\n",
    "          #print(\"cat_idx\")\n",
    "          #print(cat_idx)\n",
    "          #print(\" \")\n",
    "\n",
    "          loss += torch.mean((outputs[batch_idx][2 * cat_idx:2 * cat_idx+2] - xy[batch_idx])**2)\n",
    "        loss /= len(category_idx)\n",
    "\n",
    "        #accuracy\n",
    "        diffs = outputs - xy\n",
    "        #print(diffs)\n",
    "        for d in diffs:\n",
    "          #print(d[0])\n",
    "          if abs(d[0]) <= correct_range and  abs(d[1]) <= correct_range:\n",
    "            #print(d)\n",
    "            correct +=1.0\n",
    "\n",
    "        accuracy = (accuracy + (correct/(BATCH_SIZE)))/2\n",
    "\n",
    "\n",
    "\n",
    "\n",
    "        # run backpropogation to accumulate gradients\n",
    "        loss.backward()\n",
    "\n",
    "        # step optimizer to adjust parameters\n",
    "        optimizer.step()\n",
    "\n",
    "        # increment progress\n",
    "        count = len(category_idx.flatten())\n",
    "        i += count\n",
    "        sum_loss += float(loss)\n",
    "        progress_widget.value = i / len(dataset)\n",
    "        loss_widget.value = sum_loss / i\n",
    "\n",
    "      epoch = epoch - 1\n",
    "      print(f\"loss: {loss}\")\n",
    "      print(f\"accuracy: {accuracy*100}\")\n",
    "\n"
   ]
  },
  {
   "cell_type": "code",
   "execution_count": null,
   "id": "878ba230",
   "metadata": {},
   "outputs": [],
   "source": [
    "train()\n",
    "#model = model.eval()"
   ]
  },
  {
   "cell_type": "markdown",
   "id": "2eec75ea",
   "metadata": {},
   "source": [
    "## SAVE THE TRAINED MODEL"
   ]
  },
  {
   "cell_type": "code",
   "execution_count": null,
   "id": "942bf63f",
   "metadata": {},
   "outputs": [],
   "source": [
    "\n",
    "#save_path = \"/content/model_resnet18_apex1.pth\"\n",
    "save_path = \"/content/model_resnet18_20epoch_apex2_4_5.pth\"\n",
    "save_model()"
   ]
  },
  {
   "cell_type": "markdown",
   "id": "357f760c",
   "metadata": {},
   "source": []
  },
  {
   "cell_type": "code",
   "execution_count": null,
   "id": "e2641ebe",
   "metadata": {},
   "outputs": [],
   "source": []
  }
 ],
 "metadata": {
  "kernelspec": {
   "display_name": "Python 3 (ipykernel)",
   "language": "python",
   "name": "python3"
  },
  "language_info": {
   "codemirror_mode": {
    "name": "ipython",
    "version": 3
   },
   "file_extension": ".py",
   "mimetype": "text/x-python",
   "name": "python",
   "nbconvert_exporter": "python",
   "pygments_lexer": "ipython3",
   "version": "3.9.13"
  }
 },
 "nbformat": 4,
 "nbformat_minor": 5
}
